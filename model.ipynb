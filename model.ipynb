{
 "cells": [
  {
   "cell_type": "code",
   "execution_count": 7,
   "id": "ba0542c6-7371-4d0f-a1d6-d0657b513d15",
   "metadata": {},
   "outputs": [],
   "source": [
    "import pandas as pd\n",
    "from feature_engineering import process_data"
   ]
  },
  {
   "cell_type": "code",
   "execution_count": 8,
   "id": "fe5b0e54-99d7-40e0-8707-6804e58c43bc",
   "metadata": {},
   "outputs": [
    {
     "ename": "TypeError",
     "evalue": "process_data() missing 1 required positional argument: 'processed'",
     "output_type": "error",
     "traceback": [
      "\u001b[31m---------------------------------------------------------------------------\u001b[39m",
      "\u001b[31mTypeError\u001b[39m                                 Traceback (most recent call last)",
      "\u001b[36mCell\u001b[39m\u001b[36m \u001b[39m\u001b[32mIn[8]\u001b[39m\u001b[32m, line 1\u001b[39m\n\u001b[32m----> \u001b[39m\u001b[32m1\u001b[39m df = process_data()\n\u001b[32m      2\u001b[39m df\n",
      "\u001b[31mTypeError\u001b[39m: process_data() missing 1 required positional argument: 'processed'"
     ]
    }
   ],
   "source": [
    "df = process_data()\n",
    "df"
   ]
  },
  {
   "cell_type": "code",
   "execution_count": 4,
   "id": "addb9bc9-96bf-4514-8959-32fcda19ae0a",
   "metadata": {},
   "outputs": [],
   "source": [
    "def calc_success_rate(df: pd.DataFrame) -> float:\n",
    "    pass\n",
    "\n",
    "\n",
    "def calc_avg_transaction_costs(df: pd.DataFrame) -> float:\n",
    "    pass"
   ]
  },
  {
   "cell_type": "code",
   "execution_count": null,
   "id": "a26939c4-495c-4e45-b0da-618388e4fe36",
   "metadata": {},
   "outputs": [],
   "source": []
  }
 ],
 "metadata": {
  "kernelspec": {
   "display_name": "Python 3 (ipykernel)",
   "language": "python",
   "name": "python3"
  },
  "language_info": {
   "codemirror_mode": {
    "name": "ipython",
    "version": 3
   },
   "file_extension": ".py",
   "mimetype": "text/x-python",
   "name": "python",
   "nbconvert_exporter": "python",
   "pygments_lexer": "ipython3",
   "version": "3.12.4"
  }
 },
 "nbformat": 4,
 "nbformat_minor": 5
}
