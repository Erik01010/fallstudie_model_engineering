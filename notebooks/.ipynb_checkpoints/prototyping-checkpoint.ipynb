{
 "cells": [
  {
   "cell_type": "code",
   "execution_count": 3,
   "id": "a2485db3-1680-4573-87f2-ca8107e6b3a7",
   "metadata": {},
   "outputs": [
    {
     "name": "stdout",
     "output_type": "stream",
     "text": [
      "C:\\Users\\Erik\\Miniconda3\\python.exe\n"
     ]
    }
   ],
   "source": [
    "import sys\n",
    "import os\n",
    "\n",
    "# Zeigt an, welche Python-Version dieser Kernel verwendet\n",
    "print(sys.executable)"
   ]
  },
  {
   "cell_type": "code",
   "execution_count": 1,
   "id": "5eba8cce-97c8-4c9a-89c5-2b9067098f04",
   "metadata": {},
   "outputs": [
    {
     "ename": "ModuleNotFoundError",
     "evalue": "No module named 'src'",
     "output_type": "error",
     "traceback": [
      "\u001b[31m---------------------------------------------------------------------------\u001b[39m",
      "\u001b[31mModuleNotFoundError\u001b[39m                       Traceback (most recent call last)",
      "\u001b[36mCell\u001b[39m\u001b[36m \u001b[39m\u001b[32mIn[1]\u001b[39m\u001b[32m, line 4\u001b[39m\n\u001b[32m      1\u001b[39m \u001b[38;5;28;01mimport\u001b[39;00m\u001b[38;5;250m \u001b[39m\u001b[34;01mpandas\u001b[39;00m\u001b[38;5;250m \u001b[39m\u001b[38;5;28;01mas\u001b[39;00m\u001b[38;5;250m \u001b[39m\u001b[34;01mpd\u001b[39;00m\n\u001b[32m      2\u001b[39m \u001b[38;5;28;01mfrom\u001b[39;00m\u001b[38;5;250m \u001b[39m\u001b[34;01msklearn\u001b[39;00m\u001b[34;01m.\u001b[39;00m\u001b[34;01mmodel_selection\u001b[39;00m\u001b[38;5;250m \u001b[39m\u001b[38;5;28;01mimport\u001b[39;00m train_test_split\n\u001b[32m----> \u001b[39m\u001b[32m4\u001b[39m \u001b[38;5;28;01mfrom\u001b[39;00m\u001b[38;5;250m \u001b[39m\u001b[34;01msrc\u001b[39;00m\u001b[34;01m.\u001b[39;00m\u001b[34;01mconfig\u001b[39;00m\u001b[38;5;250m \u001b[39m\u001b[38;5;28;01mimport\u001b[39;00m RAW_DATA_PATH\n\u001b[32m      5\u001b[39m \u001b[38;5;28;01mfrom\u001b[39;00m\u001b[38;5;250m \u001b[39m\u001b[34;01msrc\u001b[39;00m\u001b[34;01m.\u001b[39;00m\u001b[34;01mfeatures\u001b[39;00m\u001b[38;5;250m \u001b[39m\u001b[38;5;28;01mimport\u001b[39;00m engineer_features\n\u001b[32m      6\u001b[39m \u001b[38;5;28;01mfrom\u001b[39;00m\u001b[38;5;250m \u001b[39m\u001b[34;01mpredictions\u001b[39;00m\u001b[38;5;250m \u001b[39m\u001b[38;5;28;01mimport\u001b[39;00m evaluate_business_impact, evaluate_technical_performance\n",
      "\u001b[31mModuleNotFoundError\u001b[39m: No module named 'src'"
     ]
    }
   ],
   "source": [
    "import pandas as pd\n",
    "from sklearn.model_selection import train_test_split\n",
    "\n",
    "from src.config import RAW_DATA_PATH\n",
    "from src.features import engineer_features\n",
    "from predictions import evaluate_business_impact, evaluate_technical_performance\n",
    "\n",
    "from src.models import (\n",
    "    train_decision_tree,\n",
    "    train_hgboost,\n",
    "    tune_hyperparameters,\n",
    ")\n",
    "from src.metrics import (\n",
    "    get_scores,\n",
    "    plot_confusion_matrix,\n",
    "    plot_precision_recall_curve,\n",
    ")"
   ]
  },
  {
   "cell_type": "code",
   "execution_count": null,
   "id": "8dd3e074-5a60-430c-8605-ef78db370a3f",
   "metadata": {},
   "outputs": [],
   "source": [
    "raw_data = pd.read_excel(RAW_DATA_PATH, index_col=0)"
   ]
  },
  {
   "cell_type": "code",
   "execution_count": null,
   "id": "65c7c73a-33c0-4e81-855c-5dc09365fbfa",
   "metadata": {},
   "outputs": [],
   "source": [
    "processed_data, ohc = engineer_features(data=raw_data)"
   ]
  },
  {
   "cell_type": "code",
   "execution_count": null,
   "id": "5a31a499-fa01-4fd9-89d1-5d6064a404a0",
   "metadata": {},
   "outputs": [],
   "source": [
    "# Split features and target\n",
    "y = processed_data[\"success\"]\n",
    "X = processed_data.drop(columns=[\"success\"], axis=1)\n",
    "X_train, X_test, y_train, y_test = train_test_split(\n",
    "    X, y, test_size=0.2, random_state=42\n",
    ")"
   ]
  },
  {
   "cell_type": "markdown",
   "id": "d27aa6b8-d326-4e68-8afb-df1867f5820c",
   "metadata": {},
   "source": [
    "Train Models"
   ]
  },
  {
   "cell_type": "code",
   "execution_count": null,
   "id": "e5ef613b-e9bd-4f9d-8e93-dd16547c2662",
   "metadata": {},
   "outputs": [],
   "source": [
    "dtm = train_decision_tree(x_train=X_train, y_train=y_train)"
   ]
  },
  {
   "cell_type": "code",
   "execution_count": null,
   "id": "109be04f-4d32-4592-8791-7a019d7062be",
   "metadata": {},
   "outputs": [],
   "source": [
    "hgbm = train_hgboost(x_train=X_train, y_train=y_train)"
   ]
  },
  {
   "cell_type": "code",
   "execution_count": null,
   "id": "3044e603-7ba1-4193-ab89-9abb27c2455f",
   "metadata": {},
   "outputs": [],
   "source": [
    "ohgbm = tune_hyperparameters(x_train=X_train, y_train=y_train)"
   ]
  },
  {
   "cell_type": "code",
   "execution_count": null,
   "id": "3a44a1a3-3644-4d31-b798-11cb1d3d2a23",
   "metadata": {},
   "outputs": [],
   "source": [
    "models_to_evaluate = {\n",
    "    \"decision_tree_model\": dtm,\n",
    "    \"hgboost_model\": hgbm,\n",
    "    \"optimized_hgboost_model\": ohgbm,\n",
    "}"
   ]
  },
  {
   "cell_type": "code",
   "execution_count": null,
   "id": "afa28291-017f-4959-bc40-190d7a9da87f",
   "metadata": {},
   "outputs": [],
   "source": [
    "# Evaluate models - technical score\n",
    "print(\"\\n--- Model Evaluation Scores ---\")\n",
    "for name, model in models_to_evaluate.items():\n",
    "    precision, recall, roc_auc, cm = get_scores(\n",
    "        name=name, model=model, y_true=y_test, x_test=X_test\n",
    "    )\n",
    "    print(\"Model Name:   \", name)\n",
    "    print(\"Precision:    \", round(precision, 4))\n",
    "    print(\"Recall:       \", round(recall, 4))\n",
    "    print(\"ROC-AUC:      \", round(roc_auc, 4))\n",
    "    print(\"\\n\")\n"
   ]
  },
  {
   "cell_type": "code",
   "execution_count": null,
   "id": "ea070840-16a8-4f29-84e3-c8376463f649",
   "metadata": {},
   "outputs": [],
   "source": [
    "plot_confusion_matrix(x_test=X_test, y_test=y_test, model=ohgbm)\n",
    "plot_precision_recall_curve(x_test=X_test, y_test=y_test, model=ohgbm)"
   ]
  }
 ],
 "metadata": {
  "kernelspec": {
   "display_name": "Python 3 (ipykernel)",
   "language": "python",
   "name": "python3"
  },
  "language_info": {
   "codemirror_mode": {
    "name": "ipython",
    "version": 3
   },
   "file_extension": ".py",
   "mimetype": "text/x-python",
   "name": "python",
   "nbconvert_exporter": "python",
   "pygments_lexer": "ipython3",
   "version": "3.13.2"
  }
 },
 "nbformat": 4,
 "nbformat_minor": 5
}
