{
 "cells": [
  {
   "cell_type": "code",
   "execution_count": 4,
   "id": "caec2fd2-5b70-4e0e-a5c1-4dbc76592adf",
   "metadata": {},
   "outputs": [],
   "source": [
    "%load_ext autoreload\n",
    "%autoreload 2"
   ]
  },
  {
   "cell_type": "code",
   "execution_count": 5,
   "id": "a2485db3-1680-4573-87f2-ca8107e6b3a7",
   "metadata": {},
   "outputs": [
    {
     "name": "stdout",
     "output_type": "stream",
     "text": [
      "C:\\Users\\Erik\\PycharmProjects\\fallstudie_model_engineering\\.venv\\Scripts\\python.exe\n"
     ]
    }
   ],
   "source": [
    "import sys\n",
    "\n",
    "print(sys.executable)"
   ]
  },
  {
   "cell_type": "code",
   "execution_count": 26,
   "id": "5eba8cce-97c8-4c9a-89c5-2b9067098f04",
   "metadata": {},
   "outputs": [],
   "source": [
    "import pandas as pd\n",
    "import numpy as np\n",
    "from sklearn.model_selection import train_test_split\n",
    "\n",
    "from src.config import RAW_DATA_PATH, CAT_FEATURES\n",
    "from src.features import engineer_features, create_categorial_features\n",
    "from src.predictions import _get_all_predictions, _calculate_strategy_kpis, min_expected_cost, max_success_prob, evaluate_business_strategies\n",
    "\n",
    "from src.models import (\n",
    "    train_ohc_encoder,\n",
    "    train_decision_tree,\n",
    "    train_hgboost,\n",
    "    tune_hyperparameters,\n",
    ")\n",
    "from src.metrics import (\n",
    "    get_scores,\n",
    "    plot_confusion_matrix,\n",
    "    plot_multiple_precision_recall_curves,\n",
    "    find_best_f1_threshold,\n",
    ")"
   ]
  },
  {
   "cell_type": "code",
   "execution_count": 7,
   "id": "8dd3e074-5a60-430c-8605-ef78db370a3f",
   "metadata": {},
   "outputs": [],
   "source": [
    "raw_data = pd.read_excel(RAW_DATA_PATH, index_col=0)"
   ]
  },
  {
   "cell_type": "code",
   "execution_count": 8,
   "id": "5a31a499-fa01-4fd9-89d1-5d6064a404a0",
   "metadata": {},
   "outputs": [],
   "source": [
    "# Split features and target\n",
    "data = raw_data.drop_duplicates()\n",
    "y = data[\"success\"]\n",
    "X = data.drop(columns=[\"success\"], axis=1)\n",
    "X_train, X_test, y_train, y_test = train_test_split(\n",
    "    X, y, test_size=0.2, random_state=42\n",
    ")"
   ]
  },
  {
   "cell_type": "code",
   "execution_count": 9,
   "id": "65c7c73a-33c0-4e81-855c-5dc09365fbfa",
   "metadata": {},
   "outputs": [],
   "source": [
    "# Engineer Features\n",
    "X_train = create_categorial_features(data=X_train)\n",
    "X_test = create_categorial_features(data=X_test)\n",
    "ohc = train_ohc_encoder(data=X_train[CAT_FEATURES])\n",
    "X_train = engineer_features(data=X_train, encoder=ohc)\n",
    "X_test = engineer_features(data=X_test, encoder=ohc)"
   ]
  },
  {
   "cell_type": "markdown",
   "id": "d27aa6b8-d326-4e68-8afb-df1867f5820c",
   "metadata": {},
   "source": [
    "Train Models"
   ]
  },
  {
   "cell_type": "code",
   "execution_count": 10,
   "id": "e5ef613b-e9bd-4f9d-8e93-dd16547c2662",
   "metadata": {},
   "outputs": [],
   "source": [
    "dtm = train_decision_tree(x_train=X_train, y_train=y_train)"
   ]
  },
  {
   "cell_type": "code",
   "execution_count": 11,
   "id": "109be04f-4d32-4592-8791-7a019d7062be",
   "metadata": {
    "scrolled": true
   },
   "outputs": [
    {
     "name": "stderr",
     "output_type": "stream",
     "text": [
      "Exception in thread Thread-4 (_readerthread):\n",
      "Traceback (most recent call last):\n",
      "  File \u001b[35m\"C:\\Users\\Erik\\AppData\\Local\\Programs\\Python\\Python313\\Lib\\threading.py\"\u001b[0m, line \u001b[35m1041\u001b[0m, in \u001b[35m_bootstrap_inner\u001b[0m\n",
      "    \u001b[31mself.run\u001b[0m\u001b[1;31m()\u001b[0m\n",
      "    \u001b[31m~~~~~~~~\u001b[0m\u001b[1;31m^^\u001b[0m\n",
      "  File \u001b[35m\"C:\\Users\\Erik\\PycharmProjects\\fallstudie_model_engineering\\.venv\\Lib\\site-packages\\ipykernel\\ipkernel.py\"\u001b[0m, line \u001b[35m788\u001b[0m, in \u001b[35mrun_closure\u001b[0m\n",
      "    \u001b[31m_threading_Thread_run\u001b[0m\u001b[1;31m(self)\u001b[0m\n",
      "    \u001b[31m~~~~~~~~~~~~~~~~~~~~~\u001b[0m\u001b[1;31m^^^^^^\u001b[0m\n",
      "  File \u001b[35m\"C:\\Users\\Erik\\AppData\\Local\\Programs\\Python\\Python313\\Lib\\threading.py\"\u001b[0m, line \u001b[35m992\u001b[0m, in \u001b[35mrun\u001b[0m\n",
      "    \u001b[31mself._target\u001b[0m\u001b[1;31m(*self._args, **self._kwargs)\u001b[0m\n",
      "    \u001b[31m~~~~~~~~~~~~\u001b[0m\u001b[1;31m^^^^^^^^^^^^^^^^^^^^^^^^^^^^^\u001b[0m\n",
      "  File \u001b[35m\"C:\\Users\\Erik\\AppData\\Local\\Programs\\Python\\Python313\\Lib\\subprocess.py\"\u001b[0m, line \u001b[35m1609\u001b[0m, in \u001b[35m_readerthread\u001b[0m\n",
      "    buffer.append(\u001b[31mfh.read\u001b[0m\u001b[1;31m()\u001b[0m)\n",
      "                  \u001b[31m~~~~~~~\u001b[0m\u001b[1;31m^^\u001b[0m\n",
      "  File \u001b[35m\"C:\\Users\\Erik\\AppData\\Local\\Programs\\Python\\Python313\\Lib\\encodings\\cp1252.py\"\u001b[0m, line \u001b[35m23\u001b[0m, in \u001b[35mdecode\u001b[0m\n",
      "    return \u001b[31mcodecs.charmap_decode\u001b[0m\u001b[1;31m(input,self.errors,decoding_table)\u001b[0m[0]\n",
      "           \u001b[31m~~~~~~~~~~~~~~~~~~~~~\u001b[0m\u001b[1;31m^^^^^^^^^^^^^^^^^^^^^^^^^^^^^^^^^^\u001b[0m\n",
      "\u001b[1;35mUnicodeDecodeError\u001b[0m: \u001b[35m'charmap' codec can't decode byte 0x81 in position 119: character maps to <undefined>\u001b[0m\n"
     ]
    }
   ],
   "source": [
    "hgbm = train_hgboost(x_train=X_train, y_train=y_train)"
   ]
  },
  {
   "cell_type": "code",
   "execution_count": 12,
   "id": "3044e603-7ba1-4193-ab89-9abb27c2455f",
   "metadata": {
    "scrolled": true
   },
   "outputs": [
    {
     "name": "stdout",
     "output_type": "stream",
     "text": [
      "Fitting 5 folds for each of 100 candidates, totalling 500 fits\n",
      "Beste Parameter gefunden: {'l2_regularization': np.float64(0.8607305832563434), 'learning_rate': np.float64(0.011390426106238142), 'max_depth': 10, 'max_iter': 236, 'min_samples_leaf': 81}\n"
     ]
    }
   ],
   "source": [
    "ohgbm = tune_hyperparameters(x_train=X_train, y_train=y_train)"
   ]
  },
  {
   "cell_type": "code",
   "execution_count": 13,
   "id": "3a44a1a3-3644-4d31-b798-11cb1d3d2a23",
   "metadata": {},
   "outputs": [],
   "source": [
    "models_to_evaluate = {\n",
    "    \"decision_tree_model\": dtm,\n",
    "    \"hgboost_model\": hgbm,\n",
    "    \"optimized_hgboost_model\": ohgbm,\n",
    "    \"optimized_hgboost_model_1\": ohgbm,\n",
    "}"
   ]
  },
  {
   "cell_type": "code",
   "execution_count": null,
   "id": "db0b871f-fc9b-4b80-8607-d5c17021e284",
   "metadata": {},
   "outputs": [],
   "source": [
    "scores = []\n",
    "for name, model in models_to_evaluate.items():\n",
    "    precision, recall, accuracy, f1, roc_auc, cm = get_scores(\n",
    "        name=name, model=model, y_true=y_test, x_test=X_test, threshold=0.511\n",
    "    )\n",
    "    scores.append(\n",
    "        {\n",
    "            \"model\": name,\n",
    "            \"precision\": round(precision, 4),\n",
    "            \"recall\": round(recall, 4),\n",
    "            \"accuracy\": round(accuracy, 4),\n",
    "            \"f1\": round(f1, 4),\n",
    "            \"roc-auc\": round(roc_auc, 4),\n",
    "        }\n",
    "    )\n",
    "scores = pd.DataFrame(scores)\n",
    "print(scores)"
   ]
  },
  {
   "cell_type": "code",
   "execution_count": null,
   "id": "ea070840-16a8-4f29-84e3-c8376463f649",
   "metadata": {},
   "outputs": [],
   "source": [
    "plot_confusion_matrix(x_test=X_test, y_test=y_test, models=models_to_evaluate)"
   ]
  },
  {
   "cell_type": "code",
   "execution_count": null,
   "id": "97136e11-1ccd-4176-8ec6-d15a404b1fbb",
   "metadata": {},
   "outputs": [],
   "source": [
    "plot_multiple_precision_recall_curves(\n",
    "    models=models_to_evaluate, x_test=X_test, y_test=y_test\n",
    ")"
   ]
  },
  {
   "cell_type": "code",
   "execution_count": null,
   "id": "d861dc1b-c09d-48ea-a67b-9b97e53d7473",
   "metadata": {},
   "outputs": [],
   "source": [
    "find_best_f1_threshold(x_test=X_test, y_test=y_test, model=ohgbm)"
   ]
  },
  {
   "cell_type": "code",
   "execution_count": null,
   "id": "bf541edb-3994-496d-bc43-b7eab2d60adb",
   "metadata": {},
   "outputs": [],
   "source": [
    "from src.metrics import feature_importance\n",
    "\n",
    "feature_importance = get_feature_importance(\n",
    "    models_to_evaluate=models_to_evaluate, x_test=X_test, y_test=y_test\n",
    ")"
   ]
  },
  {
   "cell_type": "code",
   "execution_count": null,
   "id": "0f7f9899-265f-4161-adce-ceca3d07aa58",
   "metadata": {},
   "outputs": [],
   "source": [
    "feature_importance.dtm.sort_values(ascending=False).head(20)"
   ]
  },
  {
   "cell_type": "code",
   "execution_count": 16,
   "id": "b1026be6-c5c9-45e2-9bd8-ea0b00a4fc64",
   "metadata": {
    "scrolled": true
   },
   "outputs": [],
   "source": [
    "predictions_df = _get_all_predictions(\n",
    "    model=ohgbm, x_test=X_test, original_data=raw_data, encoder=ohc\n",
    ")"
   ]
  },
  {
   "cell_type": "code",
   "execution_count": 17,
   "id": "1e512c59-6f81-4bb6-ab2f-77b90d4d7c64",
   "metadata": {},
   "outputs": [
    {
     "data": {
      "text/html": [
       "<div>\n",
       "<style scoped>\n",
       "    .dataframe tbody tr th:only-of-type {\n",
       "        vertical-align: middle;\n",
       "    }\n",
       "\n",
       "    .dataframe tbody tr th {\n",
       "        vertical-align: top;\n",
       "    }\n",
       "\n",
       "    .dataframe thead th {\n",
       "        text-align: right;\n",
       "    }\n",
       "</style>\n",
       "<table border=\"1\" class=\"dataframe\">\n",
       "  <thead>\n",
       "    <tr style=\"text-align: right;\">\n",
       "      <th></th>\n",
       "      <th>original_psp</th>\n",
       "      <th>Moneycard</th>\n",
       "      <th>Goldcard</th>\n",
       "      <th>UK_Card</th>\n",
       "      <th>Simplecard</th>\n",
       "    </tr>\n",
       "  </thead>\n",
       "  <tbody>\n",
       "    <tr>\n",
       "      <th>16866</th>\n",
       "      <td>Simplecard</td>\n",
       "      <td>0.599146</td>\n",
       "      <td>0.688460</td>\n",
       "      <td>0.291215</td>\n",
       "      <td>0.339504</td>\n",
       "    </tr>\n",
       "    <tr>\n",
       "      <th>6304</th>\n",
       "      <td>Simplecard</td>\n",
       "      <td>0.240194</td>\n",
       "      <td>0.692742</td>\n",
       "      <td>0.576616</td>\n",
       "      <td>0.462857</td>\n",
       "    </tr>\n",
       "    <tr>\n",
       "      <th>43346</th>\n",
       "      <td>Simplecard</td>\n",
       "      <td>0.494667</td>\n",
       "      <td>0.701169</td>\n",
       "      <td>0.248044</td>\n",
       "      <td>0.282984</td>\n",
       "    </tr>\n",
       "    <tr>\n",
       "      <th>19952</th>\n",
       "      <td>Simplecard</td>\n",
       "      <td>0.510574</td>\n",
       "      <td>0.666648</td>\n",
       "      <td>0.573469</td>\n",
       "      <td>0.517232</td>\n",
       "    </tr>\n",
       "    <tr>\n",
       "      <th>18012</th>\n",
       "      <td>UK_Card</td>\n",
       "      <td>0.454884</td>\n",
       "      <td>0.672690</td>\n",
       "      <td>0.582936</td>\n",
       "      <td>0.352807</td>\n",
       "    </tr>\n",
       "    <tr>\n",
       "      <th>...</th>\n",
       "      <td>...</td>\n",
       "      <td>...</td>\n",
       "      <td>...</td>\n",
       "      <td>...</td>\n",
       "      <td>...</td>\n",
       "    </tr>\n",
       "    <tr>\n",
       "      <th>32021</th>\n",
       "      <td>Moneycard</td>\n",
       "      <td>0.537555</td>\n",
       "      <td>0.648268</td>\n",
       "      <td>0.271000</td>\n",
       "      <td>0.528781</td>\n",
       "    </tr>\n",
       "    <tr>\n",
       "      <th>20378</th>\n",
       "      <td>UK_Card</td>\n",
       "      <td>0.510880</td>\n",
       "      <td>0.728761</td>\n",
       "      <td>0.274349</td>\n",
       "      <td>0.315591</td>\n",
       "    </tr>\n",
       "    <tr>\n",
       "      <th>36486</th>\n",
       "      <td>UK_Card</td>\n",
       "      <td>0.663155</td>\n",
       "      <td>0.662544</td>\n",
       "      <td>0.571805</td>\n",
       "      <td>0.371024</td>\n",
       "    </tr>\n",
       "    <tr>\n",
       "      <th>13658</th>\n",
       "      <td>UK_Card</td>\n",
       "      <td>0.669966</td>\n",
       "      <td>0.656115</td>\n",
       "      <td>0.567911</td>\n",
       "      <td>0.317281</td>\n",
       "    </tr>\n",
       "    <tr>\n",
       "      <th>13149</th>\n",
       "      <td>UK_Card</td>\n",
       "      <td>0.530684</td>\n",
       "      <td>0.719767</td>\n",
       "      <td>0.258274</td>\n",
       "      <td>0.432052</td>\n",
       "    </tr>\n",
       "  </tbody>\n",
       "</table>\n",
       "<p>10066 rows × 5 columns</p>\n",
       "</div>"
      ],
      "text/plain": [
       "      original_psp  Moneycard  Goldcard   UK_Card  Simplecard\n",
       "16866   Simplecard   0.599146  0.688460  0.291215    0.339504\n",
       "6304    Simplecard   0.240194  0.692742  0.576616    0.462857\n",
       "43346   Simplecard   0.494667  0.701169  0.248044    0.282984\n",
       "19952   Simplecard   0.510574  0.666648  0.573469    0.517232\n",
       "18012      UK_Card   0.454884  0.672690  0.582936    0.352807\n",
       "...            ...        ...       ...       ...         ...\n",
       "32021    Moneycard   0.537555  0.648268  0.271000    0.528781\n",
       "20378      UK_Card   0.510880  0.728761  0.274349    0.315591\n",
       "36486      UK_Card   0.663155  0.662544  0.571805    0.371024\n",
       "13658      UK_Card   0.669966  0.656115  0.567911    0.317281\n",
       "13149      UK_Card   0.530684  0.719767  0.258274    0.432052\n",
       "\n",
       "[10066 rows x 5 columns]"
      ]
     },
     "execution_count": 17,
     "metadata": {},
     "output_type": "execute_result"
    }
   ],
   "source": [
    "predictions_df"
   ]
  },
  {
   "cell_type": "code",
   "execution_count": 18,
   "id": "891a5ba4-b7f9-43fa-94ec-f1a810d7ae57",
   "metadata": {},
   "outputs": [
    {
     "data": {
      "text/plain": [
       "(20.683488972779653, 17927.0)"
      ]
     },
     "execution_count": 18,
     "metadata": {},
     "output_type": "execute_result"
    }
   ],
   "source": [
    "_calculate_strategy_kpis(choices=predictions_df[\"original_psp\"], y_test=y_test)"
   ]
  },
  {
   "cell_type": "code",
   "execution_count": 19,
   "id": "91f066b0-c9a3-43a1-945c-8821c41c3170",
   "metadata": {},
   "outputs": [
    {
     "data": {
      "text/plain": [
       "16866    Simplecard\n",
       "6304     Simplecard\n",
       "43346    Simplecard\n",
       "19952    Simplecard\n",
       "18012    Simplecard\n",
       "            ...    \n",
       "32021    Simplecard\n",
       "20378    Simplecard\n",
       "36486    Simplecard\n",
       "13658    Simplecard\n",
       "13149    Simplecard\n",
       "Length: 10066, dtype: object"
      ]
     },
     "execution_count": 19,
     "metadata": {},
     "output_type": "execute_result"
    }
   ],
   "source": [
    "test = min_expected_cost(predictions_df)\n",
    "test"
   ]
  },
  {
   "cell_type": "code",
   "execution_count": 21,
   "id": "b944ff67-d781-4f9d-a1cb-89896a282cf4",
   "metadata": {},
   "outputs": [
    {
     "data": {
      "text/html": [
       "<div>\n",
       "<style scoped>\n",
       "    .dataframe tbody tr th:only-of-type {\n",
       "        vertical-align: middle;\n",
       "    }\n",
       "\n",
       "    .dataframe tbody tr th {\n",
       "        vertical-align: top;\n",
       "    }\n",
       "\n",
       "    .dataframe thead th {\n",
       "        text-align: right;\n",
       "    }\n",
       "</style>\n",
       "<table border=\"1\" class=\"dataframe\">\n",
       "  <thead>\n",
       "    <tr style=\"text-align: right;\">\n",
       "      <th></th>\n",
       "      <th>original_psp</th>\n",
       "      <th>Moneycard</th>\n",
       "      <th>Goldcard</th>\n",
       "      <th>UK_Card</th>\n",
       "      <th>Simplecard</th>\n",
       "    </tr>\n",
       "  </thead>\n",
       "  <tbody>\n",
       "    <tr>\n",
       "      <th>16866</th>\n",
       "      <td>Simplecard</td>\n",
       "      <td>0.599146</td>\n",
       "      <td>0.688460</td>\n",
       "      <td>0.291215</td>\n",
       "      <td>0.339504</td>\n",
       "    </tr>\n",
       "    <tr>\n",
       "      <th>6304</th>\n",
       "      <td>Simplecard</td>\n",
       "      <td>0.240194</td>\n",
       "      <td>0.692742</td>\n",
       "      <td>0.576616</td>\n",
       "      <td>0.462857</td>\n",
       "    </tr>\n",
       "    <tr>\n",
       "      <th>43346</th>\n",
       "      <td>Simplecard</td>\n",
       "      <td>0.494667</td>\n",
       "      <td>0.701169</td>\n",
       "      <td>0.248044</td>\n",
       "      <td>0.282984</td>\n",
       "    </tr>\n",
       "    <tr>\n",
       "      <th>19952</th>\n",
       "      <td>Simplecard</td>\n",
       "      <td>0.510574</td>\n",
       "      <td>0.666648</td>\n",
       "      <td>0.573469</td>\n",
       "      <td>0.517232</td>\n",
       "    </tr>\n",
       "    <tr>\n",
       "      <th>18012</th>\n",
       "      <td>UK_Card</td>\n",
       "      <td>0.454884</td>\n",
       "      <td>0.672690</td>\n",
       "      <td>0.582936</td>\n",
       "      <td>0.352807</td>\n",
       "    </tr>\n",
       "    <tr>\n",
       "      <th>...</th>\n",
       "      <td>...</td>\n",
       "      <td>...</td>\n",
       "      <td>...</td>\n",
       "      <td>...</td>\n",
       "      <td>...</td>\n",
       "    </tr>\n",
       "    <tr>\n",
       "      <th>32021</th>\n",
       "      <td>Moneycard</td>\n",
       "      <td>0.537555</td>\n",
       "      <td>0.648268</td>\n",
       "      <td>0.271000</td>\n",
       "      <td>0.528781</td>\n",
       "    </tr>\n",
       "    <tr>\n",
       "      <th>20378</th>\n",
       "      <td>UK_Card</td>\n",
       "      <td>0.510880</td>\n",
       "      <td>0.728761</td>\n",
       "      <td>0.274349</td>\n",
       "      <td>0.315591</td>\n",
       "    </tr>\n",
       "    <tr>\n",
       "      <th>36486</th>\n",
       "      <td>UK_Card</td>\n",
       "      <td>0.663155</td>\n",
       "      <td>0.662544</td>\n",
       "      <td>0.571805</td>\n",
       "      <td>0.371024</td>\n",
       "    </tr>\n",
       "    <tr>\n",
       "      <th>13658</th>\n",
       "      <td>UK_Card</td>\n",
       "      <td>0.669966</td>\n",
       "      <td>0.656115</td>\n",
       "      <td>0.567911</td>\n",
       "      <td>0.317281</td>\n",
       "    </tr>\n",
       "    <tr>\n",
       "      <th>13149</th>\n",
       "      <td>UK_Card</td>\n",
       "      <td>0.530684</td>\n",
       "      <td>0.719767</td>\n",
       "      <td>0.258274</td>\n",
       "      <td>0.432052</td>\n",
       "    </tr>\n",
       "  </tbody>\n",
       "</table>\n",
       "<p>10066 rows × 5 columns</p>\n",
       "</div>"
      ],
      "text/plain": [
       "      original_psp  Moneycard  Goldcard   UK_Card  Simplecard\n",
       "16866   Simplecard   0.599146  0.688460  0.291215    0.339504\n",
       "6304    Simplecard   0.240194  0.692742  0.576616    0.462857\n",
       "43346   Simplecard   0.494667  0.701169  0.248044    0.282984\n",
       "19952   Simplecard   0.510574  0.666648  0.573469    0.517232\n",
       "18012      UK_Card   0.454884  0.672690  0.582936    0.352807\n",
       "...            ...        ...       ...       ...         ...\n",
       "32021    Moneycard   0.537555  0.648268  0.271000    0.528781\n",
       "20378      UK_Card   0.510880  0.728761  0.274349    0.315591\n",
       "36486      UK_Card   0.663155  0.662544  0.571805    0.371024\n",
       "13658      UK_Card   0.669966  0.656115  0.567911    0.317281\n",
       "13149      UK_Card   0.530684  0.719767  0.258274    0.432052\n",
       "\n",
       "[10066 rows x 5 columns]"
      ]
     },
     "execution_count": 21,
     "metadata": {},
     "output_type": "execute_result"
    }
   ],
   "source": [
    "predictions_df"
   ]
  },
  {
   "cell_type": "code",
   "execution_count": 24,
   "id": "e9ec1509-3fd8-43d8-831f-d603bfde2c54",
   "metadata": {},
   "outputs": [
    {
     "data": {
      "text/plain": [
       "Goldcard      9311\n",
       "Moneycard      540\n",
       "UK_Card        174\n",
       "Simplecard      41\n",
       "Name: count, dtype: int64"
      ]
     },
     "execution_count": 24,
     "metadata": {},
     "output_type": "execute_result"
    }
   ],
   "source": [
    "best_probs = max_success_prob(predictions_df)\n",
    "best_probs.value_counts()"
   ]
  },
  {
   "cell_type": "code",
   "execution_count": 25,
   "id": "8f42960d-5461-48e6-a376-f75a4f11713e",
   "metadata": {},
   "outputs": [
    {
     "data": {
      "text/html": [
       "<div>\n",
       "<style scoped>\n",
       "    .dataframe tbody tr th:only-of-type {\n",
       "        vertical-align: middle;\n",
       "    }\n",
       "\n",
       "    .dataframe tbody tr th {\n",
       "        vertical-align: top;\n",
       "    }\n",
       "\n",
       "    .dataframe thead th {\n",
       "        text-align: right;\n",
       "    }\n",
       "</style>\n",
       "<table border=\"1\" class=\"dataframe\">\n",
       "  <thead>\n",
       "    <tr style=\"text-align: right;\">\n",
       "      <th></th>\n",
       "      <th>Moneycard</th>\n",
       "      <th>Goldcard</th>\n",
       "      <th>UK_Card</th>\n",
       "      <th>Simplecard</th>\n",
       "    </tr>\n",
       "  </thead>\n",
       "  <tbody>\n",
       "    <tr>\n",
       "      <th>count</th>\n",
       "      <td>10066.000000</td>\n",
       "      <td>10066.000000</td>\n",
       "      <td>10066.000000</td>\n",
       "      <td>10066.000000</td>\n",
       "    </tr>\n",
       "    <tr>\n",
       "      <th>mean</th>\n",
       "      <td>0.497541</td>\n",
       "      <td>0.700226</td>\n",
       "      <td>0.461688</td>\n",
       "      <td>0.411320</td>\n",
       "    </tr>\n",
       "    <tr>\n",
       "      <th>std</th>\n",
       "      <td>0.112137</td>\n",
       "      <td>0.076501</td>\n",
       "      <td>0.142458</td>\n",
       "      <td>0.103403</td>\n",
       "    </tr>\n",
       "    <tr>\n",
       "      <th>min</th>\n",
       "      <td>0.208231</td>\n",
       "      <td>0.544829</td>\n",
       "      <td>0.209079</td>\n",
       "      <td>0.231028</td>\n",
       "    </tr>\n",
       "    <tr>\n",
       "      <th>25%</th>\n",
       "      <td>0.419127</td>\n",
       "      <td>0.651965</td>\n",
       "      <td>0.290392</td>\n",
       "      <td>0.324833</td>\n",
       "    </tr>\n",
       "    <tr>\n",
       "      <th>50%</th>\n",
       "      <td>0.517576</td>\n",
       "      <td>0.682351</td>\n",
       "      <td>0.558758</td>\n",
       "      <td>0.382550</td>\n",
       "    </tr>\n",
       "    <tr>\n",
       "      <th>75%</th>\n",
       "      <td>0.565375</td>\n",
       "      <td>0.724367</td>\n",
       "      <td>0.577083</td>\n",
       "      <td>0.476587</td>\n",
       "    </tr>\n",
       "    <tr>\n",
       "      <th>max</th>\n",
       "      <td>0.762069</td>\n",
       "      <td>0.843515</td>\n",
       "      <td>0.664094</td>\n",
       "      <td>0.713105</td>\n",
       "    </tr>\n",
       "  </tbody>\n",
       "</table>\n",
       "</div>"
      ],
      "text/plain": [
       "          Moneycard      Goldcard       UK_Card    Simplecard\n",
       "count  10066.000000  10066.000000  10066.000000  10066.000000\n",
       "mean       0.497541      0.700226      0.461688      0.411320\n",
       "std        0.112137      0.076501      0.142458      0.103403\n",
       "min        0.208231      0.544829      0.209079      0.231028\n",
       "25%        0.419127      0.651965      0.290392      0.324833\n",
       "50%        0.517576      0.682351      0.558758      0.382550\n",
       "75%        0.565375      0.724367      0.577083      0.476587\n",
       "max        0.762069      0.843515      0.664094      0.713105"
      ]
     },
     "execution_count": 25,
     "metadata": {},
     "output_type": "execute_result"
    }
   ],
   "source": [
    "predictions_df.describe()"
   ]
  },
  {
   "cell_type": "code",
   "execution_count": 27,
   "id": "e4584fe8-c719-4d6c-9371-5c50201df25b",
   "metadata": {},
   "outputs": [],
   "source": [
    "test = evaluate_business_strategies(ohgbm, X_test, y_test, data, ohc)"
   ]
  },
  {
   "cell_type": "code",
   "execution_count": 28,
   "id": "2515e470-fe1e-44bd-9e94-b406390f8c92",
   "metadata": {},
   "outputs": [
    {
     "data": {
      "text/html": [
       "<div>\n",
       "<style scoped>\n",
       "    .dataframe tbody tr th:only-of-type {\n",
       "        vertical-align: middle;\n",
       "    }\n",
       "\n",
       "    .dataframe tbody tr th {\n",
       "        vertical-align: top;\n",
       "    }\n",
       "\n",
       "    .dataframe thead th {\n",
       "        text-align: right;\n",
       "    }\n",
       "</style>\n",
       "<table border=\"1\" class=\"dataframe\">\n",
       "  <thead>\n",
       "    <tr style=\"text-align: right;\">\n",
       "      <th></th>\n",
       "      <th>Total Cost (â‚¬)</th>\n",
       "      <th>Success Rate (%)</th>\n",
       "    </tr>\n",
       "  </thead>\n",
       "  <tbody>\n",
       "    <tr>\n",
       "      <th>Legacy System</th>\n",
       "      <td>20.683489</td>\n",
       "      <td>17927.0</td>\n",
       "    </tr>\n",
       "    <tr>\n",
       "      <th>Cost-Optimized Model</th>\n",
       "      <td>20.683489</td>\n",
       "      <td>6074.0</td>\n",
       "    </tr>\n",
       "    <tr>\n",
       "      <th>Success-Optimized Model</th>\n",
       "      <td>20.683489</td>\n",
       "      <td>57751.5</td>\n",
       "    </tr>\n",
       "  </tbody>\n",
       "</table>\n",
       "</div>"
      ],
      "text/plain": [
       "                         Total Cost (â‚¬)  Success Rate (%)\n",
       "Legacy System                   20.683489           17927.0\n",
       "Cost-Optimized Model            20.683489            6074.0\n",
       "Success-Optimized Model         20.683489           57751.5"
      ]
     },
     "execution_count": 28,
     "metadata": {},
     "output_type": "execute_result"
    }
   ],
   "source": [
    "test"
   ]
  },
  {
   "cell_type": "code",
   "execution_count": null,
   "id": "1e9e9206-9831-42dd-9468-3a2a3431f4fd",
   "metadata": {},
   "outputs": [],
   "source": []
  }
 ],
 "metadata": {
  "kernelspec": {
   "display_name": "Python (Fallstudie Poetry)",
   "language": "python",
   "name": "fallstudie-poetry"
  },
  "language_info": {
   "codemirror_mode": {
    "name": "ipython",
    "version": 3
   },
   "file_extension": ".py",
   "mimetype": "text/x-python",
   "name": "python",
   "nbconvert_exporter": "python",
   "pygments_lexer": "ipython3",
   "version": "3.13.0"
  }
 },
 "nbformat": 4,
 "nbformat_minor": 5
}
