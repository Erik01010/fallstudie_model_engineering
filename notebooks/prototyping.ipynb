{
 "cells": [
  {
   "cell_type": "code",
   "execution_count": 1,
   "id": "caec2fd2-5b70-4e0e-a5c1-4dbc76592adf",
   "metadata": {},
   "outputs": [],
   "source": [
    "%load_ext autoreload\n",
    "%autoreload 2"
   ]
  },
  {
   "cell_type": "code",
   "execution_count": 2,
   "id": "a2485db3-1680-4573-87f2-ca8107e6b3a7",
   "metadata": {},
   "outputs": [
    {
     "name": "stdout",
     "output_type": "stream",
     "text": [
      "C:\\Users\\Erik\\PycharmProjects\\fallstudie_model_engineering\\.venv\\Scripts\\python.exe\n"
     ]
    }
   ],
   "source": [
    "import sys\n",
    "\n",
    "print(sys.executable)"
   ]
  },
  {
   "cell_type": "code",
   "execution_count": 6,
   "id": "5eba8cce-97c8-4c9a-89c5-2b9067098f04",
   "metadata": {},
   "outputs": [],
   "source": [
    "import pandas as pd\n",
    "import numpy as np\n",
    "from sklearn.model_selection import train_test_split\n",
    "\n",
    "from src.config import RAW_DATA_PATH, CAT_FEATURES, DECISION_TREE_PATH, HGBOOST_OPTIMIZED_PATH, HGBOOST_PATH\n",
    "from src.features import engineer_features, create_categorial_features\n",
    "from src.predictions import _get_all_predictions, _calculate_strategy_kpis, min_expected_cost, max_success_prob, evaluate_business_strategies\n",
    "\n",
    "from src.models import (\n",
    "    train_ohc_encoder,\n",
    "    train_decision_tree,\n",
    "    train_hgboost,\n",
    "    tune_hyperparameters,\n",
    ")\n",
    "from src.metrics import (\n",
    "    get_scores,\n",
    "    plot_confusion_matrix,\n",
    "    plot_multiple_precision_recall_curves,\n",
    "    find_best_f1_threshold,\n",
    ")"
   ]
  },
  {
   "cell_type": "code",
   "execution_count": null,
   "id": "8dd3e074-5a60-430c-8605-ef78db370a3f",
   "metadata": {},
   "outputs": [],
   "source": [
    "raw_data = pd.read_excel(RAW_DATA_PATH, index_col=0)"
   ]
  },
  {
   "cell_type": "code",
   "execution_count": null,
   "id": "5a31a499-fa01-4fd9-89d1-5d6064a404a0",
   "metadata": {},
   "outputs": [],
   "source": [
    "# Split features and target\n",
    "data = raw_data.drop_duplicates()\n",
    "y = data[\"success\"]\n",
    "X = data.drop(columns=[\"success\"], axis=1)\n",
    "X_train, X_test, y_train, y_test = train_test_split(\n",
    "    X, y, test_size=0.2, random_state=42\n",
    ")"
   ]
  },
  {
   "cell_type": "code",
   "execution_count": null,
   "id": "65c7c73a-33c0-4e81-855c-5dc09365fbfa",
   "metadata": {},
   "outputs": [],
   "source": [
    "# Engineer Features\n",
    "X_train = create_categorial_features(data=X_train)\n",
    "X_test = create_categorial_features(data=X_test)\n",
    "ohc = train_ohc_encoder(data=X_train[CAT_FEATURES])\n",
    "X_train = engineer_features(data=X_train, encoder=ohc)\n",
    "X_test = engineer_features(data=X_test, encoder=ohc)"
   ]
  },
  {
   "cell_type": "markdown",
   "id": "d27aa6b8-d326-4e68-8afb-df1867f5820c",
   "metadata": {},
   "source": [
    "Train Models"
   ]
  },
  {
   "cell_type": "code",
   "execution_count": null,
   "id": "e5ef613b-e9bd-4f9d-8e93-dd16547c2662",
   "metadata": {},
   "outputs": [],
   "source": [
    "decision_tree_model = train_decision_tree(x_train=X_train, y_train=y_train)"
   ]
  },
  {
   "cell_type": "code",
   "execution_count": null,
   "id": "109be04f-4d32-4592-8791-7a019d7062be",
   "metadata": {
    "scrolled": true
   },
   "outputs": [],
   "source": [
    "hgboost_model = train_hgboost(x_train=X_train, y_train=y_train)"
   ]
  },
  {
   "cell_type": "code",
   "execution_count": null,
   "id": "3044e603-7ba1-4193-ab89-9abb27c2455f",
   "metadata": {
    "scrolled": true
   },
   "outputs": [],
   "source": [
    "hgboost_optimized_model = tune_hyperparameters(x_train=X_train, y_train=y_train)"
   ]
  },
  {
   "cell_type": "code",
   "execution_count": null,
   "id": "3a44a1a3-3644-4d31-b798-11cb1d3d2a23",
   "metadata": {},
   "outputs": [],
   "source": [
    "models_to_evaluate = {\n",
    "    \"decision_tree_model\": decision_tree_model,\n",
    "    \"hgboost_model\": hgboost_model,\n",
    "    \"optimized_hgboost_model\": hgboost_optimized_model,\n",
    "}"
   ]
  },
  {
   "cell_type": "code",
   "execution_count": null,
   "id": "db0b871f-fc9b-4b80-8607-d5c17021e284",
   "metadata": {},
   "outputs": [],
   "source": [
    "scores = []\n",
    "for name, model in models_to_evaluate.items():\n",
    "    precision, recall, accuracy, f1, roc_auc, cm = get_scores(\n",
    "        name=name, model=model, y_true=y_test, x_test=X_test, threshold=0.511\n",
    "    )\n",
    "    scores.append(\n",
    "        {\n",
    "            \"model\": name,\n",
    "            \"precision\": round(precision, 4),\n",
    "            \"recall\": round(recall, 4),\n",
    "            \"accuracy\": round(accuracy, 4),\n",
    "            \"f1\": round(f1, 4),\n",
    "            \"roc-auc\": round(roc_auc, 4),\n",
    "        }\n",
    "    )\n",
    "scores = pd.DataFrame(scores)\n",
    "print(scores)"
   ]
  },
  {
   "cell_type": "code",
   "execution_count": null,
   "id": "ea070840-16a8-4f29-84e3-c8376463f649",
   "metadata": {},
   "outputs": [],
   "source": [
    "plot_confusion_matrix(x_test=X_test, y_test=y_test, models=models_to_evaluate)"
   ]
  },
  {
   "cell_type": "code",
   "execution_count": null,
   "id": "97136e11-1ccd-4176-8ec6-d15a404b1fbb",
   "metadata": {},
   "outputs": [],
   "source": [
    "plot_multiple_precision_recall_curves(\n",
    "    models=models_to_evaluate, x_test=X_test, y_test=y_test\n",
    ")"
   ]
  },
  {
   "cell_type": "code",
   "execution_count": null,
   "id": "d861dc1b-c09d-48ea-a67b-9b97e53d7473",
   "metadata": {},
   "outputs": [],
   "source": [
    "find_best_f1_threshold(x_test=X_test, y_test=y_test, model=ohgboost_model)"
   ]
  },
  {
   "cell_type": "code",
   "execution_count": null,
   "id": "bf541edb-3994-496d-bc43-b7eab2d60adb",
   "metadata": {},
   "outputs": [],
   "source": [
    "from src.metrics import feature_importance\n",
    "\n",
    "feature_importance = get_feature_importance(\n",
    "    models_to_evaluate=models_to_evaluate, x_test=X_test, y_test=y_test\n",
    ")"
   ]
  },
  {
   "cell_type": "code",
   "execution_count": null,
   "id": "0f7f9899-265f-4161-adce-ceca3d07aa58",
   "metadata": {},
   "outputs": [],
   "source": [
    "feature_importance.decision_tree_model.sort_values(ascending=False).head(20)"
   ]
  },
  {
   "cell_type": "code",
   "execution_count": null,
   "id": "b1026be6-c5c9-45e2-9bd8-ea0b00a4fc64",
   "metadata": {
    "scrolled": true
   },
   "outputs": [],
   "source": [
    "predictions_df = _get_all_predictions(\n",
    "    model=ohgboost_model, x_test=X_test, original_data=raw_data, encoder=ohc\n",
    ")"
   ]
  },
  {
   "cell_type": "code",
   "execution_count": null,
   "id": "1e512c59-6f81-4bb6-ab2f-77b90d4d7c64",
   "metadata": {},
   "outputs": [],
   "source": [
    "predictions_df"
   ]
  },
  {
   "cell_type": "code",
   "execution_count": null,
   "id": "891a5ba4-b7f9-43fa-94ec-f1a810d7ae57",
   "metadata": {},
   "outputs": [],
   "source": [
    "_calculate_strategy_kpis(choices=predictions_df[\"original_psp\"], y_test=y_test)"
   ]
  },
  {
   "cell_type": "code",
   "execution_count": null,
   "id": "91f066b0-c9a3-43a1-945c-8821c41c3170",
   "metadata": {},
   "outputs": [],
   "source": [
    "test = min_expected_cost(predictions_df)\n",
    "test"
   ]
  },
  {
   "cell_type": "code",
   "execution_count": null,
   "id": "b944ff67-d781-4f9d-a1cb-89896a282cf4",
   "metadata": {},
   "outputs": [],
   "source": [
    "predictions_df"
   ]
  },
  {
   "cell_type": "code",
   "execution_count": null,
   "id": "e9ec1509-3fd8-43d8-831f-d603bfde2c54",
   "metadata": {},
   "outputs": [],
   "source": [
    "best_probs = max_success_prob(predictions_df)\n",
    "best_probs.value_counts()"
   ]
  },
  {
   "cell_type": "code",
   "execution_count": null,
   "id": "8f42960d-5461-48e6-a376-f75a4f11713e",
   "metadata": {},
   "outputs": [],
   "source": [
    "predictions_df.describe()"
   ]
  },
  {
   "cell_type": "code",
   "execution_count": null,
   "id": "e4584fe8-c719-4d6c-9371-5c50201df25b",
   "metadata": {},
   "outputs": [],
   "source": [
    "test = evaluate_business_strategies(ohgboost_model, X_test, y_test, data, ohc)"
   ]
  },
  {
   "cell_type": "code",
   "execution_count": null,
   "id": "2515e470-fe1e-44bd-9e94-b406390f8c92",
   "metadata": {},
   "outputs": [],
   "source": [
    "test"
   ]
  },
  {
   "cell_type": "code",
   "execution_count": 7,
   "id": "1e9e9206-9831-42dd-9468-3a2a3431f4fd",
   "metadata": {},
   "outputs": [],
   "source": [
    "from src.main import main"
   ]
  },
  {
   "cell_type": "code",
   "execution_count": null,
   "id": "add59575-88c4-4f9f-9e99-fef43ed25f60",
   "metadata": {},
   "outputs": [],
   "source": []
  }
 ],
 "metadata": {
  "kernelspec": {
   "display_name": "Python (Fallstudie Poetry)",
   "language": "python",
   "name": "fallstudie-poetry"
  },
  "language_info": {
   "codemirror_mode": {
    "name": "ipython",
    "version": 3
   },
   "file_extension": ".py",
   "mimetype": "text/x-python",
   "name": "python",
   "nbconvert_exporter": "python",
   "pygments_lexer": "ipython3",
   "version": "3.13.0"
  }
 },
 "nbformat": 4,
 "nbformat_minor": 5
}
