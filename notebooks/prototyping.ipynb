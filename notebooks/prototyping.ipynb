{
 "cells": [
  {
   "cell_type": "code",
   "execution_count": 71,
   "id": "2928de24-4637-4672-ac5e-1baa78327984",
   "metadata": {},
   "outputs": [],
   "source": [
    "import pandas as pd\n",
    "import numpy as np\n",
    "from sklearn import tree\n",
    "from sklearn.model_selection import train_test_split\n",
    "from sklearn.preprocessing import OneHotEncoder"
   ]
  },
  {
   "cell_type": "code",
   "execution_count": 80,
   "id": "bd389da6-4a8e-483c-82c8-8baee8cb64d8",
   "metadata": {},
   "outputs": [],
   "source": [
    "COSTS = {\n",
    "    \"Moneycard\": {\"success\": 5, \"failed\": 2},\n",
    "    \"Goldcard\": {\"success\": 10, \"failed\": 5},\n",
    "    \"UK_Card\": {\"success\": 3, \"failed\": 1},\n",
    "    \"Simplecard\": {\"success\": 1, \"failed\": 0.5},\n",
    "}\n",
    "TIME_FEATURES = {\"day\": 31, \"dow\": 7, \"hour\": 24}\n",
    "\n",
    "df = pd.read_excel(\"data.xlsx\")\n",
    "df = df.drop(columns=[\"Unnamed: 0\"])\n",
    "\n",
    "\n",
    "def process_data(processed: pd.DataFrame = df) -> pd.DataFrame:\n",
    "    \"\"\"Drop duplicates and generate Features.\"\"\"\n",
    "    processed = processed.drop_duplicates()\n",
    "    processed = processed.copy()\n",
    "\n",
    "    # Informationen aus Zeitstempel extrahieren\n",
    "    processed[\"month\"] = processed.loc[:, \"tmsp\"].dt.month.astype(\"int64\")\n",
    "    processed[\"week\"] = processed.loc[:, \"tmsp\"].dt.isocalendar().week.astype(\"int64\")\n",
    "    processed[\"day\"] = processed.loc[:, \"tmsp\"].dt.day.astype(\"int64\")\n",
    "    processed[\"dow\"] = processed.loc[:, \"tmsp\"].dt.dayofweek.astype(\"int64\")\n",
    "    processed[\"hour\"] = processed.loc[:, \"tmsp\"].dt.hour.astype(\"int64\")\n",
    "    processed[\"second\"] = processed.loc[:, \"tmsp\"].dt.second.astype(\"int64\")\n",
    "    processed[\"is_weekend\"] = np.where(processed[\"dow\"] >= 5, True, False)\n",
    "    processed[\"is_business_hours\"] = np.where(\n",
    "        (processed[\"hour\"] >= 8) & (processed[\"hour\"] < 20), True, False\n",
    "    )\n",
    "\n",
    "    # Zeit-Features zyklisch kodieren\n",
    "    # week und month nicht zyklisch kodieren da kein Zyklusübergang\n",
    "    for key, value in TIME_FEATURES.items():\n",
    "        processed[f\"{key}_sin\"] = np.sin(2 * np.pi * processed[key] / value)\n",
    "        processed[f\"{key}_cos\"] = np.cos(2 * np.pi * processed[key] / value)\n",
    "\n",
    "    # Kosten\n",
    "    processed[\"cost\"] = processed.apply(\n",
    "        lambda row: COSTS[row[\"PSP\"]][\"success\"]\n",
    "        if row[\"success\"]\n",
    "        else COSTS[row[\"PSP\"]][\"failed\"],\n",
    "        axis=1,\n",
    "    )\n",
    "\n",
    "    # Wiederholte Transaktionsversuche aufgrund fehlgeschlagener Transaktionen\n",
    "    processed[\"timedelta\"] = (\n",
    "        processed[\"tmsp\"].diff().dt.total_seconds().fillna(0).astype(\"int64\")\n",
    "    )\n",
    "    cols_to_compare = [\"country\", \"amount\", \"3D_secured\", \"card\"]\n",
    "    processed[\"is_retry\"] = (\n",
    "        processed[cols_to_compare] == processed[cols_to_compare].shift(1)\n",
    "    ).all(axis=1)\n",
    "\n",
    "    # Anzahl kontinuierlicher Retry Versuche\n",
    "    retry_groups = (~processed[\"is_retry\"]).cumsum()\n",
    "    processed[\"retry_count\"] = (\n",
    "        processed.groupby(retry_groups)[\"is_retry\"].cumsum().astype(\"int64\")\n",
    "    )\n",
    "\n",
    "    # Wechsel PSP bei Retry\n",
    "    processed[\"PSP_switch\"] = False\n",
    "    processed[\"PSP_switch\"] = np.where(\n",
    "        (processed[\"is_retry\"]) & (processed[\"PSP\"] != processed[\"PSP\"].shift(1))\n",
    "        | processed[\"is_retry\"] & (processed[\"PSP_switch\"].shift(1)),\n",
    "        True,\n",
    "        False,\n",
    "    )\n",
    "    # Anzahl aufeinanderfolgende failed unterschiedlicher Umsätze\n",
    "\n",
    "    # kategorische Merkmale encodieren\n",
    "    cat_features = processed[[\"country\", \"card\"]]\n",
    "    one_hot_encoder = OneHotEncoder(sparse_output=False)\n",
    "    encoded_array = one_hot_encoder.fit_transform(cat_features)\n",
    "    encoded_columns = one_hot_encoder.get_feature_names_out(cat_features.columns)\n",
    "    encoded_df = pd.DataFrame(\n",
    "        encoded_array, columns=encoded_columns, index=processed.index\n",
    "    )\n",
    "    processed = pd.concat([processed, encoded_df], axis=1)\n",
    "\n",
    "    # Timestamp und nicht kategorische features entfernen\n",
    "    processed = processed.drop(columns=[\"tmsp\", \"country\", \"card\"])\n",
    "\n",
    "    return processed\n",
    "\n",
    "\n",
    "df = process_data()"
   ]
  },
  {
   "cell_type": "code",
   "execution_count": 85,
   "id": "d3a1e9d0-1328-4330-8624-f9b4273eb139",
   "metadata": {},
   "outputs": [],
   "source": [
    "X = df.drop(columns=[\"PSP\", \"success\"])\n",
    "y = df[\"PSP\"]\n",
    "X_train, X_test, y_train, y_test = train_test_split(\n",
    "    X, y, test_size=0.2, random_state=42\n",
    ")"
   ]
  },
  {
   "cell_type": "code",
   "execution_count": 74,
   "id": "f2d42ed1-a430-4f68-abeb-2b735eb7625f",
   "metadata": {},
   "outputs": [],
   "source": [
    "model = tree.DecisionTreeClassifier(random_state=42)"
   ]
  },
  {
   "cell_type": "code",
   "execution_count": 75,
   "id": "139f715b-b099-480d-9c5c-7652644dc3a4",
   "metadata": {},
   "outputs": [],
   "source": [
    "model.fit(X_train, y_train)\n",
    "preds = model.predict(X_test)"
   ]
  },
  {
   "cell_type": "code",
   "execution_count": 76,
   "id": "720560ab-9de1-48ca-bd77-04b535962ec3",
   "metadata": {},
   "outputs": [
    {
     "data": {
      "text/plain": [
       "array(['Simplecard', 'Simplecard', 'Simplecard', ..., 'UK_Card',\n",
       "       'UK_Card', 'UK_Card'], dtype=object)"
      ]
     },
     "execution_count": 76,
     "metadata": {},
     "output_type": "execute_result"
    }
   ],
   "source": [
    "preds"
   ]
  },
  {
   "cell_type": "code",
   "execution_count": null,
   "id": "904b6ea8-8946-4645-96de-5012eb0594f5",
   "metadata": {},
   "outputs": [],
   "source": []
  }
 ],
 "metadata": {
  "kernelspec": {
   "display_name": "Python 3 (ipykernel)",
   "language": "python",
   "name": "python3"
  },
  "language_info": {
   "codemirror_mode": {
    "name": "ipython",
    "version": 3
   },
   "file_extension": ".py",
   "mimetype": "text/x-python",
   "name": "python",
   "nbconvert_exporter": "python",
   "pygments_lexer": "ipython3",
   "version": "3.12.4"
  }
 },
 "nbformat": 4,
 "nbformat_minor": 5
}
