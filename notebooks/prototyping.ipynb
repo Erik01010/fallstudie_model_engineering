{
 "cells": [
  {
   "cell_type": "code",
   "execution_count": 5,
   "id": "caec2fd2-5b70-4e0e-a5c1-4dbc76592adf",
   "metadata": {},
   "outputs": [],
   "source": [
    "%load_ext autoreload\n",
    "%autoreload 2"
   ]
  },
  {
   "cell_type": "code",
   "execution_count": 6,
   "id": "a2485db3-1680-4573-87f2-ca8107e6b3a7",
   "metadata": {},
   "outputs": [
    {
     "name": "stdout",
     "output_type": "stream",
     "text": [
      "C:\\Users\\Erik\\PycharmProjects\\fallstudie_model_engineering\\.venv\\Scripts\\python.exe\n"
     ]
    }
   ],
   "source": [
    "import sys\n",
    "\n",
    "print(sys.executable)"
   ]
  },
  {
   "cell_type": "code",
   "execution_count": 48,
   "id": "5eba8cce-97c8-4c9a-89c5-2b9067098f04",
   "metadata": {},
   "outputs": [],
   "source": [
    "import pandas as pd\n",
    "from sklearn.model_selection import train_test_split\n",
    "\n",
    "from src.config import RAW_DATA_PATH, CAT_FEATURES\n",
    "from src.features import engineer_features, create_categorial_features\n",
    "\n",
    "from src.models import (\n",
    "    train_ohc_encoder,\n",
    "    train_decision_tree,\n",
    "    train_hgboost,\n",
    "    tune_hyperparameters,\n",
    ")\n",
    "from src.metrics import (\n",
    "    get_scores,\n",
    "    plot_confusion_matrix,\n",
    "    plot_multiple_precision_recall_curves,\n",
    "    find_best_f1_threshold,\n",
    ")"
   ]
  },
  {
   "cell_type": "code",
   "execution_count": 71,
   "id": "8dd3e074-5a60-430c-8605-ef78db370a3f",
   "metadata": {},
   "outputs": [],
   "source": [
    "raw_data = pd.read_excel(RAW_DATA_PATH, index_col=0)"
   ]
  },
  {
   "cell_type": "code",
   "execution_count": 79,
   "id": "5a31a499-fa01-4fd9-89d1-5d6064a404a0",
   "metadata": {},
   "outputs": [],
   "source": [
    "# Split features and target\n",
    "data = raw_data.drop_duplicates()\n",
    "y = data[\"success\"]\n",
    "X = data.drop(columns=[\"success\"], axis=1)\n",
    "X_train, X_test, y_train, y_test = train_test_split(\n",
    "    X, y, test_size=0.2, random_state=42\n",
    ")\n",
    "y_train = y_train.to_numpy()\n",
    "y_test = y_test.to_numpy()"
   ]
  },
  {
   "cell_type": "code",
   "execution_count": 80,
   "id": "65c7c73a-33c0-4e81-855c-5dc09365fbfa",
   "metadata": {},
   "outputs": [],
   "source": [
    "# Engineer Features\n",
    "X_train = create_categorial_features(data=X_train)\n",
    "X_test = create_categorial_features(data=X_test)\n",
    "ohc = train_ohc_encoder(data=X_train[CAT_FEATURES])\n",
    "X_train = engineer_features(data=X_train, encoder=ohc)\n",
    "X_test = engineer_features(data=X_test, encoder=ohc)"
   ]
  },
  {
   "cell_type": "markdown",
   "id": "d27aa6b8-d326-4e68-8afb-df1867f5820c",
   "metadata": {},
   "source": [
    "Train Models"
   ]
  },
  {
   "cell_type": "code",
   "execution_count": 11,
   "id": "e5ef613b-e9bd-4f9d-8e93-dd16547c2662",
   "metadata": {},
   "outputs": [],
   "source": [
    "dtm = train_decision_tree(x_train=X_train, y_train=y_train)"
   ]
  },
  {
   "cell_type": "code",
   "execution_count": 9,
   "id": "109be04f-4d32-4592-8791-7a019d7062be",
   "metadata": {
    "scrolled": true
   },
   "outputs": [
    {
     "name": "stderr",
     "output_type": "stream",
     "text": [
      "Exception in thread Thread-4 (_readerthread):\n",
      "Traceback (most recent call last):\n",
      "  File \u001b[35m\"C:\\Users\\Erik\\AppData\\Local\\Programs\\Python\\Python313\\Lib\\threading.py\"\u001b[0m, line \u001b[35m1041\u001b[0m, in \u001b[35m_bootstrap_inner\u001b[0m\n",
      "    \u001b[31mself.run\u001b[0m\u001b[1;31m()\u001b[0m\n",
      "    \u001b[31m~~~~~~~~\u001b[0m\u001b[1;31m^^\u001b[0m\n",
      "  File \u001b[35m\"C:\\Users\\Erik\\PycharmProjects\\fallstudie_model_engineering\\.venv\\Lib\\site-packages\\ipykernel\\ipkernel.py\"\u001b[0m, line \u001b[35m788\u001b[0m, in \u001b[35mrun_closure\u001b[0m\n",
      "    \u001b[31m_threading_Thread_run\u001b[0m\u001b[1;31m(self)\u001b[0m\n",
      "    \u001b[31m~~~~~~~~~~~~~~~~~~~~~\u001b[0m\u001b[1;31m^^^^^^\u001b[0m\n",
      "  File \u001b[35m\"C:\\Users\\Erik\\AppData\\Local\\Programs\\Python\\Python313\\Lib\\threading.py\"\u001b[0m, line \u001b[35m992\u001b[0m, in \u001b[35mrun\u001b[0m\n",
      "    \u001b[31mself._target\u001b[0m\u001b[1;31m(*self._args, **self._kwargs)\u001b[0m\n",
      "    \u001b[31m~~~~~~~~~~~~\u001b[0m\u001b[1;31m^^^^^^^^^^^^^^^^^^^^^^^^^^^^^\u001b[0m\n",
      "  File \u001b[35m\"C:\\Users\\Erik\\AppData\\Local\\Programs\\Python\\Python313\\Lib\\subprocess.py\"\u001b[0m, line \u001b[35m1609\u001b[0m, in \u001b[35m_readerthread\u001b[0m\n",
      "    buffer.append(\u001b[31mfh.read\u001b[0m\u001b[1;31m()\u001b[0m)\n",
      "                  \u001b[31m~~~~~~~\u001b[0m\u001b[1;31m^^\u001b[0m\n",
      "  File \u001b[35m\"C:\\Users\\Erik\\AppData\\Local\\Programs\\Python\\Python313\\Lib\\encodings\\cp1252.py\"\u001b[0m, line \u001b[35m23\u001b[0m, in \u001b[35mdecode\u001b[0m\n",
      "    return \u001b[31mcodecs.charmap_decode\u001b[0m\u001b[1;31m(input,self.errors,decoding_table)\u001b[0m[0]\n",
      "           \u001b[31m~~~~~~~~~~~~~~~~~~~~~\u001b[0m\u001b[1;31m^^^^^^^^^^^^^^^^^^^^^^^^^^^^^^^^^^\u001b[0m\n",
      "\u001b[1;35mUnicodeDecodeError\u001b[0m: \u001b[35m'charmap' codec can't decode byte 0x81 in position 119: character maps to <undefined>\u001b[0m\n"
     ]
    },
    {
     "name": "stdout",
     "output_type": "stream",
     "text": [
      "Binning 0.023 GB of training data: 0.035 s\n",
      "0.001 s 0.003 GB of validation data: \n",
      "Fitting gradient boosted rounds:\n",
      "Fit 46 trees in 3.547 s, (1426 total leaves)\n",
      "Time spent computing histograms: 0.215s\n",
      "Time spent finding best splits:  0.027s\n",
      "Time spent applying splits:      0.032s\n",
      "Time spent predicting:           0.004s\n"
     ]
    }
   ],
   "source": [
    "hgbm = train_hgboost(x_train=X_train, y_train=y_train)"
   ]
  },
  {
   "cell_type": "code",
   "execution_count": 12,
   "id": "3044e603-7ba1-4193-ab89-9abb27c2455f",
   "metadata": {
    "scrolled": true
   },
   "outputs": [
    {
     "name": "stdout",
     "output_type": "stream",
     "text": [
      "Fitting 5 folds for each of 100 candidates, totalling 500 fits\n"
     ]
    },
    {
     "name": "stderr",
     "output_type": "stream",
     "text": [
      "Exception in thread Thread-4 (_readerthread):\n",
      "Traceback (most recent call last):\n",
      "  File \u001b[35m\"C:\\Users\\Erik\\AppData\\Local\\Programs\\Python\\Python313\\Lib\\threading.py\"\u001b[0m, line \u001b[35m1041\u001b[0m, in \u001b[35m_bootstrap_inner\u001b[0m\n",
      "    \u001b[31mself.run\u001b[0m\u001b[1;31m()\u001b[0m\n",
      "    \u001b[31m~~~~~~~~\u001b[0m\u001b[1;31m^^\u001b[0m\n",
      "  File \u001b[35m\"C:\\Users\\Erik\\PycharmProjects\\fallstudie_model_engineering\\.venv\\Lib\\site-packages\\ipykernel\\ipkernel.py\"\u001b[0m, line \u001b[35m788\u001b[0m, in \u001b[35mrun_closure\u001b[0m\n",
      "    \u001b[31m_threading_Thread_run\u001b[0m\u001b[1;31m(self)\u001b[0m\n",
      "    \u001b[31m~~~~~~~~~~~~~~~~~~~~~\u001b[0m\u001b[1;31m^^^^^^\u001b[0m\n",
      "  File \u001b[35m\"C:\\Users\\Erik\\AppData\\Local\\Programs\\Python\\Python313\\Lib\\threading.py\"\u001b[0m, line \u001b[35m992\u001b[0m, in \u001b[35mrun\u001b[0m\n",
      "    \u001b[31mself._target\u001b[0m\u001b[1;31m(*self._args, **self._kwargs)\u001b[0m\n",
      "    \u001b[31m~~~~~~~~~~~~\u001b[0m\u001b[1;31m^^^^^^^^^^^^^^^^^^^^^^^^^^^^^\u001b[0m\n",
      "  File \u001b[35m\"C:\\Users\\Erik\\AppData\\Local\\Programs\\Python\\Python313\\Lib\\subprocess.py\"\u001b[0m, line \u001b[35m1609\u001b[0m, in \u001b[35m_readerthread\u001b[0m\n",
      "    buffer.append(\u001b[31mfh.read\u001b[0m\u001b[1;31m()\u001b[0m)\n",
      "                  \u001b[31m~~~~~~~\u001b[0m\u001b[1;31m^^\u001b[0m\n",
      "  File \u001b[35m\"C:\\Users\\Erik\\AppData\\Local\\Programs\\Python\\Python313\\Lib\\encodings\\cp1252.py\"\u001b[0m, line \u001b[35m23\u001b[0m, in \u001b[35mdecode\u001b[0m\n",
      "    return \u001b[31mcodecs.charmap_decode\u001b[0m\u001b[1;31m(input,self.errors,decoding_table)\u001b[0m[0]\n",
      "           \u001b[31m~~~~~~~~~~~~~~~~~~~~~\u001b[0m\u001b[1;31m^^^^^^^^^^^^^^^^^^^^^^^^^^^^^^^^^^\u001b[0m\n",
      "\u001b[1;35mUnicodeDecodeError\u001b[0m: \u001b[35m'charmap' codec can't decode byte 0x81 in position 119: character maps to <undefined>\u001b[0m\n"
     ]
    },
    {
     "name": "stdout",
     "output_type": "stream",
     "text": [
      "Binning 0.023 GB of training data: 0.033 s\n",
      "0.001 s 0.003 GB of validation data: \n",
      "Fitting gradient boosted rounds:\n",
      "Fit 79 trees in 2.949 s, (2449 total leaves)\n",
      "Time spent computing histograms: 0.360s\n",
      "Time spent finding best splits:  0.046s\n",
      "Time spent applying splits:      0.058s\n",
      "Time spent predicting:           0.007s\n",
      "Beste Parameter gefunden: {'l2_regularization': np.float64(0.23956189066697242), 'learning_rate': np.float64(0.03897897441824462), 'max_depth': 14, 'max_iter': 317, 'min_samples_leaf': 51}\n"
     ]
    }
   ],
   "source": [
    "ohgbm = tune_hyperparameters(x_train=X_train, y_train=y_train)"
   ]
  },
  {
   "cell_type": "code",
   "execution_count": 17,
   "id": "3a44a1a3-3644-4d31-b798-11cb1d3d2a23",
   "metadata": {},
   "outputs": [],
   "source": [
    "models_to_evaluate = {\n",
    "    \"decision_tree_model\": dtm,\n",
    "    \"hgboost_model\": hgbm,\n",
    "    \"optimized_hgboost_model\": ohgbm,\n",
    "    \"optimized_hgboost_model_1\": ohgbm,\n",
    "}"
   ]
  },
  {
   "cell_type": "code",
   "execution_count": 18,
   "id": "db0b871f-fc9b-4b80-8607-d5c17021e284",
   "metadata": {},
   "outputs": [
    {
     "name": "stdout",
     "output_type": "stream",
     "text": [
      "                       model  precision  recall  accuracy      f1  roc-auc\n",
      "0        decision_tree_model     0.5291  0.0524    0.7944  0.0953   0.6565\n",
      "1              hgboost_model     0.3008  0.7426    0.5898  0.4282   0.6824\n",
      "2    optimized_hgboost_model     0.3007  0.7368    0.5911  0.4271   0.6837\n",
      "3  optimized_hgboost_model_1     0.2965  0.7483    0.5808  0.4248   0.6837\n"
     ]
    }
   ],
   "source": [
    "scores = []\n",
    "for name, model in models_to_evaluate.items():\n",
    "    precision, recall, accuracy, f1, roc_auc, cm = get_scores(\n",
    "        name=name, model=model, y_true=y_test, x_test=X_test, threshold=0.511\n",
    "    )\n",
    "    scores.append(\n",
    "        {\n",
    "            \"model\": name,\n",
    "            \"precision\": round(precision, 4),\n",
    "            \"recall\": round(recall, 4),\n",
    "            \"accuracy\": round(accuracy, 4),\n",
    "            \"f1\": round(f1, 4),\n",
    "            \"roc-auc\": round(roc_auc, 4),\n",
    "        }\n",
    "    )\n",
    "scores = pd.DataFrame(scores)\n",
    "print(scores)"
   ]
  },
  {
   "cell_type": "code",
   "execution_count": null,
   "id": "ea070840-16a8-4f29-84e3-c8376463f649",
   "metadata": {},
   "outputs": [],
   "source": [
    "plot_confusion_matrix(x_test=X_test, y_test=y_test, models=models_to_evaluate)"
   ]
  },
  {
   "cell_type": "code",
   "execution_count": null,
   "id": "97136e11-1ccd-4176-8ec6-d15a404b1fbb",
   "metadata": {},
   "outputs": [],
   "source": [
    "plot_multiple_precision_recall_curves(\n",
    "    models=models_to_evaluate, x_test=X_test, y_test=y_test\n",
    ")"
   ]
  },
  {
   "cell_type": "code",
   "execution_count": null,
   "id": "d861dc1b-c09d-48ea-a67b-9b97e53d7473",
   "metadata": {},
   "outputs": [],
   "source": [
    "find_best_f1_threshold(x_test=X_test, y_test=y_test, model=ohgbm)"
   ]
  },
  {
   "cell_type": "code",
   "execution_count": 29,
   "id": "bf541edb-3994-496d-bc43-b7eab2d60adb",
   "metadata": {},
   "outputs": [],
   "source": [
    "from src.metrics import feature_importance\n",
    "\n",
    "feature_importance = get_feature_importance(\n",
    "    models_to_evaluate=models_to_evaluate, x_test=X_test, y_test=y_test\n",
    ")"
   ]
  },
  {
   "cell_type": "code",
   "execution_count": 34,
   "id": "0f7f9899-265f-4161-adce-ceca3d07aa58",
   "metadata": {},
   "outputs": [
    {
     "data": {
      "text/plain": [
       "Feature\n",
       "cost_if_failure                                        0.2830\n",
       "interaction_psp_amount_bin_UK_Card_amount_under_200    0.2019\n",
       "interaction_psp_3D_secured_UK_Card_0                   0.0894\n",
       "interaction_psp_card_Simplecard_Master                 0.0818\n",
       "interaction_psp_3D_secured_Goldcard_0                  0.0681\n",
       "day                                                    0.0571\n",
       "timedelta                                              0.0553\n",
       "is_retry                                               0.0395\n",
       "hour                                                   0.0376\n",
       "is_business_hours                                      0.0257\n",
       "amount                                                 0.0096\n",
       "day_sin                                                0.0091\n",
       "is_weekend                                             0.0084\n",
       "hour_cos                                               0.0066\n",
       "card_Visa                                              0.0052\n",
       "interaction_psp_card_UK_Card_Diners                    0.0045\n",
       "dow_cos                                                0.0044\n",
       "dow                                                    0.0036\n",
       "hour_sin                                               0.0031\n",
       "interaction_psp_country_UK_Card_Switzerland            0.0029\n",
       "Name: dtm, dtype: float64"
      ]
     },
     "execution_count": 34,
     "metadata": {},
     "output_type": "execute_result"
    }
   ],
   "source": [
    "feature_importance.dtm.sort_values(ascending=False).head(20)"
   ]
  },
  {
   "cell_type": "code",
   "execution_count": 34,
   "id": "45fac36a-53db-40e8-bb6a-9586639433ea",
   "metadata": {},
   "outputs": [
    {
     "data": {
      "text/plain": [
       "Index(['tmsp', 'country', 'amount', 'PSP', '3D_secured', 'card'], dtype='object')"
      ]
     },
     "execution_count": 34,
     "metadata": {},
     "output_type": "execute_result"
    }
   ],
   "source": [
    "X_test.columns"
   ]
  },
  {
   "cell_type": "code",
   "execution_count": 83,
   "id": "642b5fbc-0121-45e4-be0e-c5aadb753f00",
   "metadata": {},
   "outputs": [],
   "source": [
    "from src.predictions import _get_all_predictions, calculate_strategy_kpis"
   ]
  },
  {
   "cell_type": "code",
   "execution_count": 81,
   "id": "b1026be6-c5c9-45e2-9bd8-ea0b00a4fc64",
   "metadata": {
    "scrolled": true
   },
   "outputs": [],
   "source": [
    "predictions_df = _get_all_predictions(\n",
    "    model=ohgbm, x_test=X_test, original_data=raw_data, encoder=ohc\n",
    ")"
   ]
  },
  {
   "cell_type": "code",
   "execution_count": 82,
   "id": "1e512c59-6f81-4bb6-ab2f-77b90d4d7c64",
   "metadata": {},
   "outputs": [
    {
     "data": {
      "text/html": [
       "<div>\n",
       "<style scoped>\n",
       "    .dataframe tbody tr th:only-of-type {\n",
       "        vertical-align: middle;\n",
       "    }\n",
       "\n",
       "    .dataframe tbody tr th {\n",
       "        vertical-align: top;\n",
       "    }\n",
       "\n",
       "    .dataframe thead th {\n",
       "        text-align: right;\n",
       "    }\n",
       "</style>\n",
       "<table border=\"1\" class=\"dataframe\">\n",
       "  <thead>\n",
       "    <tr style=\"text-align: right;\">\n",
       "      <th></th>\n",
       "      <th>original_psp</th>\n",
       "      <th>Moneycard</th>\n",
       "      <th>Goldcard</th>\n",
       "      <th>UK_Card</th>\n",
       "      <th>Simplecard</th>\n",
       "    </tr>\n",
       "  </thead>\n",
       "  <tbody>\n",
       "    <tr>\n",
       "      <th>16866</th>\n",
       "      <td>Simplecard</td>\n",
       "      <td>0.618672</td>\n",
       "      <td>0.720242</td>\n",
       "      <td>0.283769</td>\n",
       "      <td>0.326381</td>\n",
       "    </tr>\n",
       "    <tr>\n",
       "      <th>6304</th>\n",
       "      <td>Simplecard</td>\n",
       "      <td>0.412814</td>\n",
       "      <td>0.604694</td>\n",
       "      <td>0.561977</td>\n",
       "      <td>0.490658</td>\n",
       "    </tr>\n",
       "    <tr>\n",
       "      <th>43346</th>\n",
       "      <td>Simplecard</td>\n",
       "      <td>0.518547</td>\n",
       "      <td>0.744908</td>\n",
       "      <td>0.233750</td>\n",
       "      <td>0.279756</td>\n",
       "    </tr>\n",
       "    <tr>\n",
       "      <th>19952</th>\n",
       "      <td>Simplecard</td>\n",
       "      <td>0.661531</td>\n",
       "      <td>0.708379</td>\n",
       "      <td>0.580122</td>\n",
       "      <td>0.532561</td>\n",
       "    </tr>\n",
       "    <tr>\n",
       "      <th>18012</th>\n",
       "      <td>UK_Card</td>\n",
       "      <td>0.426258</td>\n",
       "      <td>0.706814</td>\n",
       "      <td>0.591504</td>\n",
       "      <td>0.377613</td>\n",
       "    </tr>\n",
       "    <tr>\n",
       "      <th>...</th>\n",
       "      <td>...</td>\n",
       "      <td>...</td>\n",
       "      <td>...</td>\n",
       "      <td>...</td>\n",
       "      <td>...</td>\n",
       "    </tr>\n",
       "    <tr>\n",
       "      <th>32021</th>\n",
       "      <td>Moneycard</td>\n",
       "      <td>0.518727</td>\n",
       "      <td>0.605632</td>\n",
       "      <td>0.262678</td>\n",
       "      <td>0.554731</td>\n",
       "    </tr>\n",
       "    <tr>\n",
       "      <th>20378</th>\n",
       "      <td>UK_Card</td>\n",
       "      <td>0.513227</td>\n",
       "      <td>0.651044</td>\n",
       "      <td>0.259483</td>\n",
       "      <td>0.308020</td>\n",
       "    </tr>\n",
       "    <tr>\n",
       "      <th>36486</th>\n",
       "      <td>UK_Card</td>\n",
       "      <td>0.697316</td>\n",
       "      <td>0.631357</td>\n",
       "      <td>0.583311</td>\n",
       "      <td>0.363771</td>\n",
       "    </tr>\n",
       "    <tr>\n",
       "      <th>13658</th>\n",
       "      <td>UK_Card</td>\n",
       "      <td>0.686494</td>\n",
       "      <td>0.687746</td>\n",
       "      <td>0.574088</td>\n",
       "      <td>0.325204</td>\n",
       "    </tr>\n",
       "    <tr>\n",
       "      <th>13149</th>\n",
       "      <td>UK_Card</td>\n",
       "      <td>0.502221</td>\n",
       "      <td>0.676913</td>\n",
       "      <td>0.263517</td>\n",
       "      <td>0.403116</td>\n",
       "    </tr>\n",
       "  </tbody>\n",
       "</table>\n",
       "<p>10066 rows × 5 columns</p>\n",
       "</div>"
      ],
      "text/plain": [
       "      original_psp  Moneycard  Goldcard   UK_Card  Simplecard\n",
       "16866   Simplecard   0.618672  0.720242  0.283769    0.326381\n",
       "6304    Simplecard   0.412814  0.604694  0.561977    0.490658\n",
       "43346   Simplecard   0.518547  0.744908  0.233750    0.279756\n",
       "19952   Simplecard   0.661531  0.708379  0.580122    0.532561\n",
       "18012      UK_Card   0.426258  0.706814  0.591504    0.377613\n",
       "...            ...        ...       ...       ...         ...\n",
       "32021    Moneycard   0.518727  0.605632  0.262678    0.554731\n",
       "20378      UK_Card   0.513227  0.651044  0.259483    0.308020\n",
       "36486      UK_Card   0.697316  0.631357  0.583311    0.363771\n",
       "13658      UK_Card   0.686494  0.687746  0.574088    0.325204\n",
       "13149      UK_Card   0.502221  0.676913  0.263517    0.403116\n",
       "\n",
       "[10066 rows x 5 columns]"
      ]
     },
     "execution_count": 82,
     "metadata": {},
     "output_type": "execute_result"
    }
   ],
   "source": [
    "predictions_df"
   ]
  },
  {
   "cell_type": "code",
   "execution_count": 87,
   "id": "cde851f6-493d-4e3e-a8cd-a3118b4d2aa0",
   "metadata": {},
   "outputs": [
    {
     "data": {
      "text/plain": [
       "(np.float64(0.20683488972779654), 6074.0)"
      ]
     },
     "execution_count": 87,
     "metadata": {},
     "output_type": "execute_result"
    }
   ],
   "source": [
    "predictions_df[\"best_psp\"] = \"Simplecard\"\n",
    "choices = predictions_df[\"best_psp\"]\n",
    "calculate_strategy_kpis(choices=choices, y_test=y_test)"
   ]
  },
  {
   "cell_type": "code",
   "execution_count": 88,
   "id": "891a5ba4-b7f9-43fa-94ec-f1a810d7ae57",
   "metadata": {},
   "outputs": [
    {
     "data": {
      "text/plain": [
       "(np.float64(0.20683488972779654), 17927.0)"
      ]
     },
     "execution_count": 88,
     "metadata": {},
     "output_type": "execute_result"
    }
   ],
   "source": [
    "calculate_strategy_kpis(choices=predictions_df[\"original_psp\"], y_test=y_test)"
   ]
  },
  {
   "cell_type": "code",
   "execution_count": null,
   "id": "863ae07f-17cf-4715-a202-ccd870a33e14",
   "metadata": {},
   "outputs": [],
   "source": []
  }
 ],
 "metadata": {
  "kernelspec": {
   "display_name": "Python (Fallstudie Poetry)",
   "language": "python",
   "name": "fallstudie-poetry"
  },
  "language_info": {
   "codemirror_mode": {
    "name": "ipython",
    "version": 3
   },
   "file_extension": ".py",
   "mimetype": "text/x-python",
   "name": "python",
   "nbconvert_exporter": "python",
   "pygments_lexer": "ipython3",
   "version": "3.13.0"
  }
 },
 "nbformat": 4,
 "nbformat_minor": 5
}
